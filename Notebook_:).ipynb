{
  "nbformat": 4,
  "nbformat_minor": 0,
  "metadata": {
    "colab": {
      "provenance": [],
      "authorship_tag": "ABX9TyPgJXNbRnVNfNDUSkdGWjhE",
      "include_colab_link": true
    },
    "kernelspec": {
      "name": "python3",
      "display_name": "Python 3"
    },
    "language_info": {
      "name": "python"
    }
  },
  "cells": [
    {
      "cell_type": "markdown",
      "metadata": {
        "id": "view-in-github",
        "colab_type": "text"
      },
      "source": [
        "<a href=\"https://colab.research.google.com/github/TzDaniel1/Reto_4/blob/main/Untitled0.ipynb\" target=\"_parent\"><img src=\"https://colab.research.google.com/assets/colab-badge.svg\" alt=\"Open In Colab\"/></a>"
      ]
    },
    {
      "cell_type": "markdown",
      "source": [
        "# 1. Dado un número entero, determinar si ese número corresponde al código ASCII de una vocal minúscula."
      ],
      "metadata": {
        "id": "zzMIj_tnPe1s"
      }
    },
    {
      "cell_type": "code",
      "execution_count": null,
      "metadata": {
        "colab": {
          "base_uri": "https://localhost:8080/"
        },
        "id": "IzDmw9QAOq4b",
        "outputId": "84e2fa53-6333-4558-f7f4-548328a90aae"
      },
      "outputs": [
        {
          "output_type": "stream",
          "name": "stdout",
          "text": [
            "Ingrese un número entero: 46\n",
            "El número 46 no corresponde al código ASCII de una vocal minúscula.\n"
          ]
        }
      ],
      "source": [
        "numero = int(input(\"Ingrese un número entero: \"))\n",
        "\n",
        "if numero == 97 or numero == 101 or numero == 105 or numero == 111 or numero == 117:\n",
        "    print(f\"El número {numero} corresponde al código ASCII de una vocal minúscula.\")\n",
        "else:\n",
        "    print(f\"El número {numero} no corresponde al código ASCII de una vocal minúscula.\")"
      ]
    },
    {
      "cell_type": "markdown",
      "source": [
        "# 2. Dada una cadena de longitud 1, determine si el código ASCII de primera letra de la cadena es par o no."
      ],
      "metadata": {
        "id": "DjEJj7sXPyiP"
      }
    },
    {
      "cell_type": "code",
      "source": [
        "cadena = input(\"Ingrese una cadena de longitud 1: \")\n",
        "\n",
        "if len(cadena) == 1:\n",
        "    codigo_ascii = ord(cadena)\n",
        "\n",
        "    if codigo_ascii % 2 == 0:\n",
        "        print(f\"El código ASCII de la primera letra '{cadena}' es par.\")\n",
        "    else:\n",
        "        print(f\"El código ASCII de la primera letra '{cadena}' no es par.\")\n",
        "else:\n",
        "    print(\"La cadena debe tener longitud 1.\")"
      ],
      "metadata": {
        "colab": {
          "base_uri": "https://localhost:8080/"
        },
        "id": "Xz0tQ9quPQNf",
        "outputId": "425384e6-1bd0-4c22-8c0f-3e423196c92d"
      },
      "execution_count": 3,
      "outputs": [
        {
          "output_type": "stream",
          "name": "stdout",
          "text": [
            "Ingrese una cadena de longitud 1: *\n",
            "El código ASCII de la primera letra '*' es par.\n"
          ]
        }
      ]
    },
    {
      "cell_type": "markdown",
      "source": [
        "# 3. Dado un carácter, construya un programa en Python para determinar si el carácter es un dígito o no."
      ],
      "metadata": {
        "id": "tUQWTxuOQ7yK"
      }
    },
    {
      "cell_type": "code",
      "source": [
        "caracter = input(\"Ingrese un carácter: \")\n",
        "\n",
        "if caracter >= '0' and caracter <= '9':\n",
        "    print(f\"El carácter '{caracter}' es un dígito.\")\n",
        "else:\n",
        "    print(f\"El carácter '{caracter}' no es un dígito.\")"
      ],
      "metadata": {
        "id": "iF-xHJgnRCpz"
      },
      "execution_count": null,
      "outputs": []
    },
    {
      "cell_type": "markdown",
      "source": [
        "# 4. Dado un número real x, construya un programa que permita determinar si el número es positivo, negativo o cero. Para cada caso de debe imprimir el texto que se especifica a continuación:\n",
        "\n",
        "*   Positivo: \"El número x es positivo\"\n",
        "*   Negativo: \"El número x es negativo\"\n",
        "*   Cero (0): \"El número x es el neutro para la suma\"\n",
        "\n"
      ],
      "metadata": {
        "id": "ZFNPOxwKRGpN"
      }
    },
    {
      "cell_type": "code",
      "source": [
        "x = float(input(\"Ingrese un número real: \"))\n",
        "\n",
        "if x > 0:\n",
        "    print(f\"El número {x} es positivo.\")\n",
        "elif x < 0:\n",
        "    print(f\"El número {x} es negativo.\")\n",
        "else:\n",
        "    print(f\"El número {x} es el neutro para la suma.\")"
      ],
      "metadata": {
        "id": "zd4-lgrzSAVs"
      },
      "execution_count": null,
      "outputs": []
    },
    {
      "cell_type": "markdown",
      "source": [
        "# 5. Dado el centro y el radio de un círculo, determinar si un punto de R2 pertenece o no al interior del círculo."
      ],
      "metadata": {
        "id": "SfOkQobOS3d3"
      }
    },
    {
      "cell_type": "code",
      "source": [
        "centro_x = float(input(\"Ingrese la coordenada x del centro del círculo: \"))\n",
        "centro_y = float(input(\"Ingrese la coordenada y del centro del círculo: \"))\n",
        "radio = float(input(\"Ingrese el radio del círculo: \"))\n",
        "punto_x = float(input(\"Ingrese la coordenada x del punto: \"))\n",
        "punto_y = float(input(\"Ingrese la coordenada y del punto: \"))\n",
        "\n",
        "distancia = ((punto_x - centro_x) ** 2 + (punto_y - centro_y) ** 2) ** 0.5\n",
        "\n",
        "if distancia < radio:\n",
        "    print(\"El punto está dentro del círculo.\")\n",
        "else:\n",
        "    print(\"El punto no está dentro del círculo.\")"
      ],
      "metadata": {
        "colab": {
          "base_uri": "https://localhost:8080/"
        },
        "id": "x5p69_dPS80Q",
        "outputId": "d9c2c35a-8382-4554-cabe-c615d592f0b4"
      },
      "execution_count": 4,
      "outputs": [
        {
          "output_type": "stream",
          "name": "stdout",
          "text": [
            "Ingrese la coordenada x del centro del círculo: 3\n",
            "Ingrese la coordenada y del centro del círculo: 7\n",
            "Ingrese el radio del círculo: 8\n",
            "Ingrese la coordenada x del punto: 9\n",
            "Ingrese la coordenada y del punto: 1\n",
            "El punto no está dentro del círculo.\n"
          ]
        }
      ]
    },
    {
      "cell_type": "markdown",
      "source": [
        "# 6. Dadas tres longitudes positivas, determinar si con esas longitudes se puede construir un triángulo."
      ],
      "metadata": {
        "id": "WlT1xJeyTZMv"
      }
    },
    {
      "cell_type": "code",
      "source": [
        "lado1 = float(input(\"Ingrese la longitud del primer lado: \"))\n",
        "lado2 = float(input(\"Ingrese la longitud del segundo lado: \"))\n",
        "lado3 = float(input(\"Ingrese la longitud del tercer lado: \"))\n",
        "\n",
        "if lado1 + lado2 > lado3 and lado1 + lado3 > lado2 and lado2 + lado3 > lado1:\n",
        "    print(\"Se puede construir un triángulo con estas longitudes.\")\n",
        "else:\n",
        "    print(\"No se puede construir un triángulo con estas longitudes.\")"
      ],
      "metadata": {
        "id": "VHJKRC9MTcxn"
      },
      "execution_count": null,
      "outputs": []
    }
  ]
}
